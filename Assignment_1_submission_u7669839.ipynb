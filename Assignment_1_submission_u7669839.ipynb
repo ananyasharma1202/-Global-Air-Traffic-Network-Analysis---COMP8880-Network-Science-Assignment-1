{
  "nbformat": 4,
  "nbformat_minor": 0,
  "metadata": {
    "colab": {
      "provenance": []
    },
    "kernelspec": {
      "name": "python3",
      "display_name": "Python 3"
    },
    "language_info": {
      "name": "python"
    }
  },
  "cells": [
    {
      "cell_type": "markdown",
      "source": [
        "Q1. Basic graph attributes: how many nodes and (undirected) edges are in this network?\n"
      ],
      "metadata": {
        "id": "kkKOteF6eKdg"
      }
    },
    {
      "cell_type": "code",
      "execution_count": 1,
      "metadata": {
        "colab": {
          "base_uri": "https://localhost:8080/"
        },
        "id": "XtnXRd81eAXA",
        "outputId": "f4d05801-f23a-4ab8-da83-0a2beb90ace8"
      },
      "outputs": [
        {
          "output_type": "stream",
          "name": "stdout",
          "text": [
            "Number of nodes: 3618\n",
            "Number of undirected edges: 14142\n"
          ]
        }
      ],
      "source": [
        "import networkx as nx\n",
        "\n",
        "global_net_file_path = \"/content/global-net.dat\"\n",
        "gobal_net_graph = nx.read_edgelist(global_net_file_path, nodetype=int)\n",
        "\n",
        "num_nodes = gobal_net_graph.number_of_nodes()\n",
        "num_edges = gobal_net_graph.number_of_edges()\n",
        "\n",
        "print(f\"Number of nodes: {num_nodes}\")\n",
        "print(f\"Number of undirected edges: {num_edges}\")\n"
      ]
    },
    {
      "cell_type": "markdown",
      "source": [
        "Q2. How many connected components are in this graph, how many nodes and edges do the largest component contain?"
      ],
      "metadata": {
        "id": "cPt1uSIueYYH"
      }
    },
    {
      "cell_type": "code",
      "source": [
        "import networkx as nx\n",
        "\n",
        "\n",
        "global_net_file_path = \"/content/global-net.dat\"\n",
        "gobal_net_graph = nx.read_edgelist(global_net_file_path, nodetype=int)\n",
        "\n",
        "\n",
        "num_components = nx.number_connected_components(gobal_net_graph)\n",
        "largest_contected_components = max(nx.connected_components(gobal_net_graph), key=len)\n",
        "largest_subgraph = gobal_net_graph.subgraph(largest_contected_components)\n",
        "\n",
        "num_nodes_largest = largest_subgraph.number_of_nodes()\n",
        "num_edges_largest = largest_subgraph.number_of_edges()\n",
        "\n",
        "\n",
        "print(f\"Number of connected components: {num_components}\")\n",
        "print(f\"Largest component has {num_nodes_largest} nodes and {num_edges_largest} edges.\")\n"
      ],
      "metadata": {
        "colab": {
          "base_uri": "https://localhost:8080/"
        },
        "id": "B1NoACbZeYxE",
        "outputId": "c7d36e03-cf9e-4d86-a7e6-5f80aeaf82cb"
      },
      "execution_count": 2,
      "outputs": [
        {
          "output_type": "stream",
          "name": "stdout",
          "text": [
            "Number of connected components: 1\n",
            "Largest component has 3618 nodes and 14142 edges.\n"
          ]
        }
      ]
    },
    {
      "cell_type": "markdown",
      "source": [
        "Q3. Denote the largest component as G. List the top 10 nodes in G having the highest degree, and how many other nodes are they connected to. Please give names of the city/airport, node ids will not be accepted."
      ],
      "metadata": {
        "id": "rcviAtlDeZQY"
      }
    },
    {
      "cell_type": "code",
      "source": [
        "import networkx as nx\n",
        "import pandas as pd\n",
        "\n",
        "global_net_file_path = \"/content/global-net.dat\"\n",
        "global_cities_file_path = \"/content/global-cities.dat\"\n",
        "\n",
        "global_net_graph = nx.read_edgelist(global_net_file_path, nodetype=int)\n",
        "\n",
        "city_df = pd.read_csv(global_cities_file_path, delimiter=\"|\", header=None, names=[\"Code\", \"NodeID\", \"City\"])\n",
        "node_to_city = dict(zip(city_df[\"NodeID\"], city_df[\"City\"]))\n",
        "\n",
        "largest_component_nodes = max(nx.connected_components(global_net_graph), key=len)\n",
        "G = global_net_graph.subgraph(largest_component_nodes)\n",
        "\n",
        "\n",
        "degree_dict = dict(G.degree())\n",
        "top_nodes = sorted(degree_dict.items(), key=lambda x: x[1], reverse=True)[:10]\n",
        "top_cities = [(node_to_city[node], degree) for node, degree in top_nodes]\n",
        "\n",
        "print(\"Top 10 nodes in G with the highest degree:\")\n",
        "for city, degree in top_cities:\n",
        "    print(f\"{city}: {degree} connections\")"
      ],
      "metadata": {
        "colab": {
          "base_uri": "https://localhost:8080/"
        },
        "id": "aSUgQExyei0i",
        "outputId": "ae1216d3-0a3b-4a26-d54b-2ff3b935648a"
      },
      "execution_count": 3,
      "outputs": [
        {
          "output_type": "stream",
          "name": "stdout",
          "text": [
            "Top 10 nodes in G with the highest degree:\n",
            "Paris: 250 connections\n",
            "London (GB): 242 connections\n",
            "Frankfurt: 237 connections\n",
            "Amsterdam: 192 connections\n",
            "Moscow: 186 connections\n",
            "Chicago: 184 connections\n",
            "New York: 179 connections\n",
            "Atlanta: 172 connections\n",
            "Dallas/Fort Worth: 147 connections\n",
            "Houston: 144 connections\n"
          ]
        }
      ]
    },
    {
      "cell_type": "markdown",
      "source": [
        "Q4. Plot the degree distribution of the network G. Each data point is a pair (x,y) where x is a positive integer and y is the fraction of nodes in the network with degree equal to x. Also plot the degree distribution on a log-log scale. Restrict the range of x between the minimum and maximum degrees. You may filter out data points with a 0 entry. For the log-log scale, use base 10 for both x and y axes. Include numeric labels on each axes for the reader to make sense of the plot."
      ],
      "metadata": {
        "id": "IbR26mlXejOa"
      }
    },
    {
      "cell_type": "code",
      "source": [
        "import networkx as nx\n",
        "import pandas as pd\n",
        "import matplotlib.pyplot as plt\n",
        "import numpy as np\n",
        "\n",
        "\n",
        "global_net_file_path = \"/content/global-net.dat\"\n",
        "global_cities_file_path = \"/content/global-cities.dat\"\n",
        "\n",
        "global_net_graph = nx.read_edgelist(global_net_file_path, nodetype=int)\n",
        "\n",
        "city_df = pd.read_csv(global_cities_file_path, delimiter=\"|\", header=None, names=[\"Code\", \"NodeID\", \"City\"])\n",
        "node_to_city = dict(zip(city_df[\"NodeID\"], city_df[\"City\"]))\n",
        "\n",
        "largest_component_nodes = max(nx.connected_components(global_net_graph), key=len)\n",
        "G = global_net_graph.subgraph(largest_component_nodes)\n",
        "degree_dict = dict(G.degree())\n",
        "\n",
        "degree_count = {}\n",
        "for degree in degree_dict.values():\n",
        "    if degree in degree_count:\n",
        "        degree_count[degree] += 1\n",
        "    else:\n",
        "        degree_count[degree] = 1\n",
        "\n",
        "\n",
        "degree_values = sorted(degree_count.items())\n",
        "degrees = [x for x, _ in degree_values]\n",
        "counts = [y for _, y in degree_values]\n",
        "\n",
        "total_nodes = len(G.nodes())\n",
        "fractions = [count / total_nodes for count in counts]\n",
        "\n",
        "plt.figure(figsize=(12, 6))\n",
        "\n",
        "plt.subplot(1, 2, 1)\n",
        "plt.plot(degrees, fractions, marker='o', linestyle='-', color='b')\n",
        "plt.xlabel('Degree (x)')\n",
        "plt.ylabel('Fraction of nodes (y)')\n",
        "plt.title('Degree Distribution')\n",
        "\n",
        "plt.subplot(1, 2, 2)\n",
        "plt.plot(degrees, fractions, marker='o', linestyle='-', color='b')\n",
        "plt.xscale('log')\n",
        "plt.yscale('log')\n",
        "plt.xlabel('Degree (x)')\n",
        "plt.ylabel('Fraction of nodes (y)')\n",
        "plt.title('Degree Distribution (Log-Log Scale)')\n",
        "\n",
        "plt.tight_layout()\n",
        "plt.show()\n"
      ],
      "metadata": {
        "colab": {
          "base_uri": "https://localhost:8080/",
          "height": 627
        },
        "id": "9XJdMyNueoz1",
        "outputId": "d39418ae-c7bd-43d0-d6b6-7cb57dc4c0ca"
      },
      "execution_count": 4,
      "outputs": [
        {
          "output_type": "display_data",
          "data": {
            "text/plain": [
              "<Figure size 1200x600 with 2 Axes>"
            ],
            "image/png": "[encoded data removed]"
          },
          "metadata": {}
        }
      ]
    },
    {
      "cell_type": "markdown",
      "source": [
        "Q5. What is the (unweighted) diameter of the giant component G in this network? List a longest (unweighted) shortest path between two cities. Please give names of the city/airport, node ids will not be accepted."
      ],
      "metadata": {
        "id": "RHPyixM6epI3"
      }
    },
    {
      "cell_type": "code",
      "source": [
        "import networkx as nx\n",
        "import pandas as pd\n",
        "import matplotlib.pyplot as plt\n",
        "import numpy as np\n",
        "\n",
        "\n",
        "global_net_file_path = \"/content/global-net.dat\"\n",
        "global_cities_file_path = \"/content/global-cities.dat\"\n",
        "\n",
        "global_net_graph = nx.read_edgelist(global_net_file_path, nodetype=int)\n",
        "\n",
        "city_df = pd.read_csv(global_cities_file_path, delimiter=\"|\", header=None, names=[\"Code\", \"NodeID\", \"City\"])\n",
        "node_to_city = dict(zip(city_df[\"NodeID\"], city_df[\"City\"]))\n",
        "\n",
        "largest_component_nodes = max(nx.connected_components(global_net_graph), key=len)\n",
        "largest_subgraph = global_net_graph.subgraph(largest_component_nodes)\n",
        "\n",
        "longest_path_nodes = nx.periphery(G)\n",
        "longest_path = max([nx.shortest_path(largest_subgraph, source=a, target=b) for a in longest_path_nodes for b in longest_path_nodes], key=len)\n",
        "longest_path_cities = [node_to_city[node] for node in longest_path]\n",
        "\n",
        "print(f\"The unweighted diameter of the giant component G is: {len(longest_path) - 1}\")\n",
        "print(\"The longest (unweighted) shortest path between two cities is:\")\n",
        "for city in longest_path_cities:\n",
        "    print(city)\n"
      ],
      "metadata": {
        "colab": {
          "base_uri": "https://localhost:8080/"
        },
        "id": "QXZTEHaLermg",
        "outputId": "85f84d84-a2d7-47d8-b990-1805f3b24f96"
      },
      "execution_count": 9,
      "outputs": [
        {
          "output_type": "stream",
          "name": "stdout",
          "text": [
            "The unweighted diameter of the giant component G is: 17\n",
            "The longest (unweighted) shortest path between two cities is:\n",
            "Brize Norton\n",
            "Georgetown (XV)\n",
            "Mount Pleasant\n",
            "Punta Arenas\n",
            "Concepcion (CL)\n",
            "Santiago (CL)\n",
            "Buenos Aires\n",
            "Auckland\n",
            "Brisbane\n",
            "Port Moresby\n",
            "Lae\n",
            "Indagen\n",
            "Konge\n",
            "Kabwum\n",
            "Satwag\n",
            "Derim\n",
            "Yalumet\n",
            "Wasu\n"
          ]
        }
      ]
    },
    {
      "cell_type": "markdown",
      "source": [
        "Q6. What is the smallest number of flights you need to take to get from Canberra (CBR) to Cape Town (CPT)? Which airports does your route take you through? Please give names of the city/airport, node ids will not be accepted.\n"
      ],
      "metadata": {
        "id": "Rs__DLa-er90"
      }
    },
    {
      "cell_type": "code",
      "source": [
        "import networkx as nx\n",
        "import pandas as pd\n",
        "\n",
        "global_net_file_path = \"/content/global-net.dat\"\n",
        "global_cities_file_path = \"/content/global-cities.dat\"\n",
        "\n",
        "global_net_graph = nx.read_edgelist(global_net_file_path, nodetype=int)\n",
        "\n",
        "city_df = pd.read_csv(global_cities_file_path, delimiter=\"|\", header=None, names=[\"Code\", \"NodeID\", \"City\"])\n",
        "node_to_city = dict(zip(city_df[\"NodeID\"], city_df[\"City\"]))\n",
        "\n",
        "source_city = \"Canberra\"\n",
        "target_city = \"Cape Town\"\n",
        "\n",
        "\n",
        "source_node = city_df[city_df[\"City\"] == source_city][\"NodeID\"].values[0]\n",
        "target_node = city_df[city_df[\"City\"] == target_city][\"NodeID\"].values[0]\n",
        "\n",
        "\n",
        "shortest_path_nodes = nx.shortest_path(global_net_graph, source=source_node, target=target_node)\n",
        "shortest_path_cities = [node_to_city[node] for node in shortest_path_nodes]\n",
        "\n",
        "\n",
        "\n",
        "print(f\"The smallest number of flights from {source_city} to {target_city} is: {len(shortest_path_nodes) - 1}\")\n",
        "print(f\"The route takes you through the following airports/cities:\")\n",
        "for city in shortest_path_cities:\n",
        "    print(city)\n"
      ],
      "metadata": {
        "colab": {
          "base_uri": "https://localhost:8080/"
        },
        "id": "ub9N_bvgevXM",
        "outputId": "a9b69062-59c4-498f-de70-3215cc84f8c0"
      },
      "execution_count": 10,
      "outputs": [
        {
          "output_type": "stream",
          "name": "stdout",
          "text": [
            "The smallest number of flights from Canberra to Cape Town is: 3\n",
            "The route takes you through the following airports/cities:\n",
            "Canberra\n",
            "Melbourne (AU)\n",
            "Mauritius\n",
            "Cape Town\n"
          ]
        }
      ]
    },
    {
      "cell_type": "markdown",
      "source": [
        "Q7. Which airport/city in G is most “central” by having the largest betweeness, list the top 10 cities with their betweeness value?"
      ],
      "metadata": {
        "id": "zcJo_EpJevpL"
      }
    },
    {
      "cell_type": "code",
      "source": [
        "import networkx as nx\n",
        "import pandas as pd\n",
        "\n",
        "global_net_file_path = \"/content/global-net.dat\"\n",
        "global_cities_file_path = \"/content/global-cities.dat\"\n",
        "\n",
        "global_net_graph = nx.read_edgelist(global_net_file_path, nodetype=int)\n",
        "\n",
        "city_df = pd.read_csv(global_cities_file_path, delimiter=\"|\", header=None, names=[\"Code\", \"NodeID\", \"City\"])\n",
        "node_to_city = dict(zip(city_df[\"NodeID\"], city_df[\"City\"]))\n",
        "\n",
        "largest_component_nodes = max(nx.connected_components(global_net_graph), key=len)\n",
        "G = global_net_graph.subgraph(largest_component_nodes)\n",
        "\n",
        "betweenness = nx.betweenness_centrality(G)\n",
        "sorted_betweenness = sorted(betweenness.items(), key=lambda x: x[1], reverse=True)[:10]\n",
        "\n",
        "top_cities_by_betweenness = [(node_to_city[node], centrality) for node, centrality in sorted_betweenness]\n",
        "\n",
        "print(\"Top 10 cities/airports with the highest betweenness centrality:\")\n",
        "for city, centrality in top_cities_by_betweenness:\n",
        "    print(f\"{city}: {centrality:.6f}\")\n"
      ],
      "metadata": {
        "colab": {
          "base_uri": "https://localhost:8080/"
        },
        "id": "IikLntV6eyBb",
        "outputId": "4ee32e1b-8347-40bc-f1ba-1b9f4210ac4d"
      },
      "execution_count": 11,
      "outputs": [
        {
          "output_type": "stream",
          "name": "stdout",
          "text": [
            "Top 10 cities/airports with the highest betweenness centrality:\n",
            "Paris: 0.093420\n",
            "London (GB): 0.084989\n",
            "Anchorage: 0.081523\n",
            "Singapore: 0.075362\n",
            "New York: 0.069283\n",
            "Los Angeles (US): 0.066250\n",
            "Frankfurt: 0.065578\n",
            "Port Moresby: 0.064323\n",
            "Tokyo: 0.060243\n",
            "Seattle: 0.052379\n"
          ]
        }
      ]
    }
  ]
}